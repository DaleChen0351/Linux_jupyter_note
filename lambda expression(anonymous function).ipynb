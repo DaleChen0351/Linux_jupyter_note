{
 "cells": [
  {
   "cell_type": "markdown",
   "metadata": {},
   "source": [
    "# 使用方式"
   ]
  },
  {
   "cell_type": "markdown",
   "metadata": {},
   "source": [
    "### 没有参数"
   ]
  },
  {
   "cell_type": "code",
   "execution_count": 3,
   "metadata": {},
   "outputs": [
    {
     "name": "stdout",
     "output_type": "stream",
     "text": [
      "140291082896656\n",
      "140291082896656\n"
     ]
    },
    {
     "data": {
      "text/plain": [
       "'waht is my purpose?'"
      ]
     },
     "execution_count": 3,
     "metadata": {},
     "output_type": "execute_result"
    }
   ],
   "source": [
    "a=lambda:\"waht is my purpose?\"\n",
    "b=a\n",
    "print(id(a))\n",
    "print(id(b)) # 通过打印ID可知，a和b是指向同一个lambda表达式的（也说明lambda表达式也是临时变量在内存中保存的）。\n",
    "b()"
   ]
  },
  {
   "cell_type": "markdown",
   "metadata": {},
   "source": [
    "### 有一个或者多个参数"
   ]
  },
  {
   "cell_type": "code",
   "execution_count": 4,
   "metadata": {},
   "outputs": [
    {
     "data": {
      "text/plain": [
       "7"
      ]
     },
     "execution_count": 4,
     "metadata": {},
     "output_type": "execute_result"
    }
   ],
   "source": [
    "c=lambda x:3*x+1\n",
    "c(2)"
   ]
  },
  {
   "cell_type": "code",
   "execution_count": 6,
   "metadata": {},
   "outputs": [
    {
     "data": {
      "text/plain": [
       "2.449489742783178"
      ]
     },
     "execution_count": 6,
     "metadata": {},
     "output_type": "execute_result"
    }
   ],
   "source": [
    "d=lambda x,y:(x*y)**0.5\n",
    "d(2,3)"
   ]
  },
  {
   "cell_type": "markdown",
   "metadata": {},
   "source": [
    "# 实例"
   ]
  },
  {
   "cell_type": "markdown",
   "metadata": {},
   "source": [
    "### 排序实例\n",
    "- L.sort函数排序是对原始数据的直接排序\n",
    "- key = 后面的函数是对需要排队的某一个对象做处理，不是对整个列表处理"
   ]
  },
  {
   "cell_type": "code",
   "execution_count": 11,
   "metadata": {},
   "outputs": [
    {
     "name": "stdout",
     "output_type": "stream",
     "text": [
      "['douglas adams', 'isaa asimov', 'ray bradbury', 'orson scott card', 'c clarke', 'frank herbert']\n"
     ]
    }
   ],
   "source": [
    "scif_auth=[\"isaa asimov\",\"ray bradbury\",\"c clarke\",\"frank herbert\",\"orson scott card\",\"douglas adams\"]\n",
    "scif_auth.sort(key=lambda name:name.split(\" \")[-1].lower()) #\n",
    "print(scif_auth)"
   ]
  },
  {
   "cell_type": "markdown",
   "metadata": {},
   "source": [
    "### Quadratic functions case\n",
    "- 函数调用有两种方式。第一种是将lambda表达式赋值给一个变量名，然后通过该变量名传入参数调用。\n",
    "- 第二种是直接调用不需要赋值给一个变量名\n"
   ]
  },
  {
   "cell_type": "code",
   "execution_count": 16,
   "metadata": {},
   "outputs": [
    {
     "data": {
      "text/plain": [
       "9"
      ]
     },
     "execution_count": 16,
     "metadata": {},
     "output_type": "execute_result"
    }
   ],
   "source": [
    "def build_quadratic_fun(a,b,c):\n",
    "    return lambda x:a*x**2+b*x+c\n",
    "f=build_quadratic_fun(2,3,-5) \n",
    "f(2)"
   ]
  },
  {
   "cell_type": "code",
   "execution_count": 20,
   "metadata": {},
   "outputs": [
    {
     "data": {
      "text/plain": [
       "9"
      ]
     },
     "execution_count": 20,
     "metadata": {},
     "output_type": "execute_result"
    }
   ],
   "source": [
    "build_quadratic_fun(2,3,-5)(2)"
   ]
  },
  {
   "cell_type": "markdown",
   "metadata": {},
   "source": [
    "# 总结\n",
    "- lambda function 在你需要零时用一下，用完即丢弃，且函数比较简单的情况下非常有用。"
   ]
  },
  {
   "cell_type": "markdown",
   "metadata": {},
   "source": [
    "# 引用\n",
    "> 本文主要参考下列视频内容，翻译并亲测代码后形成此文，感谢视频作者的无私奉献！\n",
    "\n",
    "- [Lambda Expressions & Anonymous Functions ](https://www.youtube.com/watch?v=25ovCm9jKfA&list=LLvjvdeBWDkbq-ycyFch1s7w&index=2&t=220s)"
   ]
  },
  {
   "cell_type": "code",
   "execution_count": null,
   "metadata": {},
   "outputs": [],
   "source": []
  }
 ],
 "metadata": {
  "kernelspec": {
   "display_name": "Python 3",
   "language": "python",
   "name": "python3"
  },
  "language_info": {
   "codemirror_mode": {
    "name": "ipython",
    "version": 3
   },
   "file_extension": ".py",
   "mimetype": "text/x-python",
   "name": "python",
   "nbconvert_exporter": "python",
   "pygments_lexer": "ipython3",
   "version": "3.6.7"
  },
  "toc": {
   "base_numbering": 1,
   "nav_menu": {},
   "number_sections": true,
   "sideBar": true,
   "skip_h1_title": false,
   "title_cell": "Table of Contents",
   "title_sidebar": "Contents",
   "toc_cell": false,
   "toc_position": {},
   "toc_section_display": true,
   "toc_window_display": false
  }
 },
 "nbformat": 4,
 "nbformat_minor": 2
}
