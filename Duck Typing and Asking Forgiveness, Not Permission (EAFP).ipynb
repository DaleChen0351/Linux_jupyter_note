{
 "cells": [
  {
   "cell_type": "markdown",
   "metadata": {},
   "source": [
    "- Pythonic\n",
    "> You are following conventions and coding styles of the Python language in order to write clean and readable code "
   ]
  },
  {
   "cell_type": "markdown",
   "metadata": {},
   "source": [
    "# Duck Typing"
   ]
  },
  {
   "cell_type": "markdown",
   "metadata": {},
   "source": [
    "- 如果一个object叫声向鸭子，走路姿势像鸭子，那么它就是鸭子。\n",
    "- 我们不关心操作的实例化对象本身是什么类型（class），只关心它们是否可以正确的完成我们希望完成的工作，即这个对象的行为（method）是否可以完成我们希望的工作，如果可以，那么它就是我们需要的类型。"
   ]
  },
  {
   "cell_type": "code",
   "execution_count": 28,
   "metadata": {},
   "outputs": [],
   "source": [
    "class Duck:\n",
    "\n",
    "    def quack(self):\n",
    "        print('Quack, quack')\n",
    "\n",
    "    def fly(self):\n",
    "        print('Flap, Flap!')\n",
    "\n",
    "\n",
    "class Person:\n",
    "\n",
    "    def quack(self):\n",
    "        print(\"I'm Quacking Like a Duck!\")\n",
    "\n",
    "    def fly(self):\n",
    "        print(\"I'm Flapping my Arms!\")"
   ]
  },
  {
   "cell_type": "markdown",
   "metadata": {},
   "source": [
    "### Not Duck-Typed (Non-Pythonic)"
   ]
  },
  {
   "cell_type": "code",
   "execution_count": 29,
   "metadata": {
    "scrolled": true
   },
   "outputs": [
    {
     "name": "stdout",
     "output_type": "stream",
     "text": [
      "Quack, quack\n",
      "Flap, Flap!\n",
      "This has to be a Duck!\n"
     ]
    }
   ],
   "source": [
    "def quack_and_fly(thing):\n",
    "    pass\n",
    "    # Not Duck-Typed (Non-Pythonic)\n",
    "    if isinstance(thing, Duck):\n",
    "        thing.quack()\n",
    "        thing.fly()\n",
    "    else:\n",
    "        print('This has to be a Duck!')\n",
    "d = Duck()\n",
    "p = Person()\n",
    "\n",
    "quack_and_fly(d)\n",
    "quack_and_fly(p)"
   ]
  },
  {
   "cell_type": "markdown",
   "metadata": {},
   "source": [
    "### Duck typing 举例"
   ]
  },
  {
   "cell_type": "code",
   "execution_count": 4,
   "metadata": {
    "scrolled": true
   },
   "outputs": [
    {
     "name": "stdout",
     "output_type": "stream",
     "text": [
      "Quack, quack\n",
      "Flap, Flap!\n",
      "I'm Quacking Like a Duck!\n",
      "I'm Flapping my Arms!\n"
     ]
    }
   ],
   "source": [
    "def quack_and_fly(thing):\n",
    "        thing.quack()\n",
    "        thing.fly()\n",
    "d = Duck()\n",
    "p = Person()\n",
    "\n",
    "quack_and_fly(d)\n",
    "quack_and_fly(p)"
   ]
  },
  {
   "cell_type": "markdown",
   "metadata": {},
   "source": [
    "**但是，这样是不是太危险了？**OK，我们可以不去关心我们操作的对象的类型，但是我们至少需要检查一下这些传入的对象有没有这些method吧？下面我们来讨论这个问题。"
   ]
  },
  {
   "cell_type": "markdown",
   "metadata": {},
   "source": [
    "# EAFP\n",
    "> **Easier to Ask Forgiveness than Permission**\n"
   ]
  },
  {
   "cell_type": "markdown",
   "metadata": {},
   "source": [
    "### Look before you leap\n",
    "> 传统的方式，实现这种检查，需要先用hasattr检查该类的实例化对象是否存在相应的**属性**，然后检查该属性是否可以被调用，这样看上去十分的cumbersome（累赘和复杂）。\n",
    "\n",
    "采用这种方式，我们每次都需要在执行之前先进行询问permission"
   ]
  },
  {
   "cell_type": "code",
   "execution_count": 5,
   "metadata": {},
   "outputs": [
    {
     "name": "stdout",
     "output_type": "stream",
     "text": [
      "Quack, quack\n",
      "Flap, Flap!\n",
      "\n",
      "I'm Quacking Like a Duck!\n",
      "I'm Flapping my Arms!\n",
      "\n"
     ]
    }
   ],
   "source": [
    " #  Non-Pythonic\n",
    "def quack_and_fly(thing):\n",
    "    # LBYL (Non-Pythonic)\n",
    "    if hasattr(thing, 'quack'):\n",
    "        if callable(thing.quack):\n",
    "            thing.quack()\n",
    "\n",
    "    if hasattr(thing, 'fly'):\n",
    "        if callable(thing.fly):\n",
    "            thing.fly()\n",
    "        print()\n",
    "d = Duck()\n",
    "p = Person()\n",
    "\n",
    "quack_and_fly(d)\n",
    "quack_and_fly(p)\n",
    "        "
   ]
  },
  {
   "cell_type": "markdown",
   "metadata": {},
   "source": [
    "###  EAFP 示例\n",
    "> Let us try do something, and if it doesn't work then we'll handle it."
   ]
  },
  {
   "cell_type": "markdown",
   "metadata": {},
   "source": [
    "- case 1：'Duck' object has no attribute 'bark'\n",
    "\n",
    "我们不需要进行类型检查，也不需要进行属性和调用检查。直接进行执行，当遇到问题时，直接可以抛出异常"
   ]
  },
  {
   "cell_type": "code",
   "execution_count": 7,
   "metadata": {},
   "outputs": [
    {
     "name": "stdout",
     "output_type": "stream",
     "text": [
      "Quack, quack\n",
      "Flap, Flap!\n",
      "'Duck' object has no attribute 'bark'\n",
      "\n",
      "I'm Quacking Like a Duck!\n",
      "I'm Flapping my Arms!\n",
      "'Person' object has no attribute 'bark'\n",
      "\n"
     ]
    }
   ],
   "source": [
    "# Pythonic\n",
    "def quack_and_fly(thing):\n",
    "    try:\n",
    "        thing.quack()\n",
    "        thing.fly()\n",
    "        thing.bark()\n",
    "    except AttributeError as e:\n",
    "        print(e)\n",
    "    print()\n",
    "d = Duck()\n",
    "p = Person()\n",
    "\n",
    "quack_and_fly(d)\n",
    "quack_and_fly(p)"
   ]
  },
  {
   "cell_type": "markdown",
   "metadata": {},
   "source": [
    "- case 2：Missing'job' key"
   ]
  },
  {
   "cell_type": "code",
   "execution_count": 15,
   "metadata": {},
   "outputs": [],
   "source": [
    "#  person = {\"name\": \"jess\",\"age\":\"22\",\"job\":\"programmar\"}\n",
    "person = {\"name\": \"jess\",\"age\":\"22\"}"
   ]
  },
  {
   "cell_type": "code",
   "execution_count": 16,
   "metadata": {},
   "outputs": [
    {
     "name": "stdout",
     "output_type": "stream",
     "text": [
      "missing some keys\n"
     ]
    }
   ],
   "source": [
    "#  Non-Pythonic\n",
    "if \"name\" in person and \"age\" in person and \"job\" in person:\n",
    "    print(\"i am {name}.I am {age} years old and i am a {job}\".format(**person))\n",
    "else:\n",
    "    print(\"missing some keys\")"
   ]
  },
  {
   "cell_type": "code",
   "execution_count": 17,
   "metadata": {},
   "outputs": [
    {
     "name": "stdout",
     "output_type": "stream",
     "text": [
      "Missing'job' key\n"
     ]
    }
   ],
   "source": [
    "# Pythonic\n",
    "try:\n",
    "     print(\"i am {name}.I am {age} years old and i am a {job}\".format(**person))\n",
    "except KeyError as e:\n",
    "    print(\"Missing{} key\".format(e))"
   ]
  },
  {
   "cell_type": "markdown",
   "metadata": {},
   "source": [
    "- case 3：that index does not exist"
   ]
  },
  {
   "cell_type": "code",
   "execution_count": 22,
   "metadata": {},
   "outputs": [],
   "source": [
    "my_list = [1,2,3,4,5]"
   ]
  },
  {
   "cell_type": "code",
   "execution_count": 23,
   "metadata": {},
   "outputs": [
    {
     "name": "stdout",
     "output_type": "stream",
     "text": [
      "that index does not exist\n"
     ]
    }
   ],
   "source": [
    "#  Non-Pythonic\n",
    "if len(my_list) >=6:\n",
    "    print(my_list[5])\n",
    "else:\n",
    "    print(\"that index does not exist\")"
   ]
  },
  {
   "cell_type": "code",
   "execution_count": 24,
   "metadata": {
    "scrolled": true
   },
   "outputs": [
    {
     "name": "stdout",
     "output_type": "stream",
     "text": [
      "that index does not exist\n"
     ]
    }
   ],
   "source": [
    "# Pythonic\n",
    "try:\n",
    "    print(my_list[5])\n",
    "except IndexError:\n",
    "    print(\"that index does not exist\")"
   ]
  },
  {
   "cell_type": "markdown",
   "metadata": {},
   "source": [
    "- case 4：with open a file"
   ]
  },
  {
   "cell_type": "markdown",
   "metadata": {},
   "source": [
    "我们先检查文件是否可以访问，然后准备打开文件，但是因为是race condition的情况，即在很短的时间内，文件可能被占用，而当我们真的去打开文件的时候，可能会失败，而之前我们已经检查过可以成功了，所以这种情况下，我们就不会捕捉到这个错误了。"
   ]
  },
  {
   "cell_type": "code",
   "execution_count": 25,
   "metadata": {},
   "outputs": [
    {
     "name": "stdout",
     "output_type": "stream",
     "text": [
      "first_name,last_name,email\n",
      "\n"
     ]
    }
   ],
   "source": [
    "import os\n",
    "#  Non-Pythonic\n",
    "# race condition \n",
    "my_file = \"name.csv\"\n",
    "if os.access(my_file, os.R_OK):\n",
    "    with open(my_file) as f:\n",
    "        print(f.readline())\n",
    "else:\n",
    "    print(\"file can not be accessed \")"
   ]
  },
  {
   "cell_type": "markdown",
   "metadata": {},
   "source": [
    "而采用 try except的方式，我们先去尝试做，如果成功，则直接读取文件显示，而如果失败则抛出异常。"
   ]
  },
  {
   "cell_type": "code",
   "execution_count": 26,
   "metadata": {},
   "outputs": [
    {
     "name": "stdout",
     "output_type": "stream",
     "text": [
      "first_name,last_name,email\n",
      "\n"
     ]
    }
   ],
   "source": [
    "# Pythonic\n",
    "try:\n",
    "    f = open(my_file)\n",
    "except IOError as e:\n",
    "    print(\"file can not be accessed\")\n",
    "else:\n",
    "    with f:\n",
    "        print(f.readline())"
   ]
  },
  {
   "cell_type": "markdown",
   "metadata": {},
   "source": [
    "# 引用\n",
    "> 本文主要参考下列视频内容，翻译并亲测代码后形成此文，感谢视频作者的无私奉献！\n",
    "\n",
    "- [Python Tutorial: Duck Typing and Asking Forgiveness, Not Permission (EAFP)](https://www.youtube.com/watch?v=x3v9zMX1s4s&list=PL-osiE80TeTt2d9bfVyTiXJA-UTHn6WwU&t=0s&index=33)"
   ]
  }
 ],
 "metadata": {
  "kernelspec": {
   "display_name": "Python 3",
   "language": "python",
   "name": "python3"
  },
  "language_info": {
   "codemirror_mode": {
    "name": "ipython",
    "version": 3
   },
   "file_extension": ".py",
   "mimetype": "text/x-python",
   "name": "python",
   "nbconvert_exporter": "python",
   "pygments_lexer": "ipython3",
   "version": "3.6.7"
  },
  "toc": {
   "base_numbering": 1,
   "nav_menu": {},
   "number_sections": true,
   "sideBar": true,
   "skip_h1_title": false,
   "title_cell": "Table of Contents",
   "title_sidebar": "Contents",
   "toc_cell": false,
   "toc_position": {},
   "toc_section_display": true,
   "toc_window_display": false
  }
 },
 "nbformat": 4,
 "nbformat_minor": 2
}
