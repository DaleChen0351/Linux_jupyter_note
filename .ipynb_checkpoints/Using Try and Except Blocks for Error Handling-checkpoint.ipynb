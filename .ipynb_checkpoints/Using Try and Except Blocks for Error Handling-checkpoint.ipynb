{
 "cells": [
  {
   "cell_type": "markdown",
   "metadata": {},
   "source": [
    "# Python 异常处理\n",
    "> - 程序执行中出现的错误提示，对于我们开发人员来说是很方便的，但对于用户来说是不友好的的，因此需要我们定制这些提示信息。\n",
    "> - try的工作原理是，当开始一个try语句后，python就在当前程序的上下文中作标记，这样当异常出现时就可以回到这里，try子句先执行，接下来会发生什么依赖于执行时是否出现异常。"
   ]
  },
  {
   "cell_type": "markdown",
   "metadata": {},
   "source": [
    "## try and except"
   ]
  },
  {
   "cell_type": "code",
   "execution_count": 1,
   "metadata": {
    "scrolled": true
   },
   "outputs": [
    {
     "name": "stdout",
     "output_type": "stream",
     "text": [
      "sorry. this file does not exist\n"
     ]
    }
   ],
   "source": [
    "try:\n",
    "    f = open(\"name1.csv\") # 该文件就不存在\n",
    "except Exception:\n",
    "    print(\"sorry. this file does not exist\")"
   ]
  },
  {
   "cell_type": "markdown",
   "metadata": {},
   "source": [
    "Exception类错误可以捕捉所有类型的error，比如我们增加一个 未定义的error  var = bad_var："
   ]
  },
  {
   "cell_type": "code",
   "execution_count": 5,
   "metadata": {},
   "outputs": [
    {
     "name": "stdout",
     "output_type": "stream",
     "text": [
      "sorry. this file does not exist\n"
     ]
    }
   ],
   "source": [
    "try:\n",
    "    f = open(\"name.csv\") # 并没有这个文件  \n",
    "    var = bad_var\n",
    "except Exception:\n",
    "    print(\"sorry. this file does not exist\")"
   ]
  },
  {
   "cell_type": "markdown",
   "metadata": {},
   "source": [
    "可以看到，仍然执行了 except Exception下的语句。但实际来说，\"name.csv\"文件是存在的，引起错误的原因是'bad_var'没有定义，所以，我们需要分别捕捉不同类型的错误，并分别做针对性的处理。"
   ]
  },
  {
   "cell_type": "code",
   "execution_count": 6,
   "metadata": {},
   "outputs": [
    {
     "name": "stdout",
     "output_type": "stream",
     "text": [
      "name 'bad_var' is not defined\n"
     ]
    }
   ],
   "source": [
    "try:\n",
    "    f = open(\"name.csv\") # 该文件存在\n",
    "    var = bad_var\n",
    "except FileNotFoundError:\n",
    "    print(\"sorry. this file does not exist\")\n",
    "except Exception as e:\n",
    "    print(e)\n"
   ]
  },
  {
   "cell_type": "markdown",
   "metadata": {},
   "source": [
    "需要注意的是我们将捕捉特定错误的except语句放到前面，而把可以捕捉任意错误的exception类的语句放到最后，以确保可以捕捉到这个类型"
   ]
  },
  {
   "cell_type": "markdown",
   "metadata": {},
   "source": [
    "## else and finally"
   ]
  },
  {
   "cell_type": "markdown",
   "metadata": {},
   "source": [
    "- 当try逻辑块中的代码执行后**产生了**问题，依次轮询except语句，执行符合要求的except语句中的代码，然后跳过else，执行finally语句\n",
    "- finally中执行的语句一般为关闭或者任务的后续事宜，比如关闭数据库等操作。目的是即使出现问题，也要保证系统的安全性"
   ]
  },
  {
   "cell_type": "code",
   "execution_count": 11,
   "metadata": {},
   "outputs": [
    {
     "name": "stdout",
     "output_type": "stream",
     "text": [
      "sorry. this file does not exist\n",
      "whaterver happened before, this statement will be executed surely\n"
     ]
    }
   ],
   "source": [
    "try:\n",
    "    f = open(\"name1.csv\") # 该文件存在\n",
    "    # print(f.readline()) # 如果把这两句话放到这里，一起捕捉错误，这样就无法确保错误到底是由哪条语句产生的，故还是放到else语句中\n",
    "    # f.close()\n",
    "except FileNotFoundError:\n",
    "    print(\"sorry. this file does not exist\")\n",
    "except Exception as e:\n",
    "    print(e)\n",
    "else:\n",
    "    print(f.readline()) # 当前面的except语句确定没有执行，即前面try逻辑块中的语句执行没有产生错误，才会执行else里面的内容\n",
    "    f.close()\n",
    "finally:\n",
    "    print(\"whaterver happened before, this statement will be executed surely\") "
   ]
  },
  {
   "cell_type": "markdown",
   "metadata": {},
   "source": [
    "-  当try逻辑块中的代码执行后**没有**问题，则直接跳过except的所有语句，执行else语句，然后执行finally语句"
   ]
  },
  {
   "cell_type": "code",
   "execution_count": 9,
   "metadata": {},
   "outputs": [
    {
     "name": "stdout",
     "output_type": "stream",
     "text": [
      "first_name,last_name,email\n",
      "\n",
      "whaterver happened before, this statement will be executed surely\n"
     ]
    }
   ],
   "source": [
    "try:\n",
    "    f = open(\"name.csv\") # 该文件存在\n",
    "    # print(f.readline()) # 如果把这两句话放到这里，一起捕捉错误，这样就无法确保错误到底是由哪条语句产生的，故还是放到else语句中\n",
    "    # f.close()\n",
    "except FileNotFoundError:\n",
    "    print(\"sorry. this file does not exist\")\n",
    "except Exception as e:\n",
    "    print(e)\n",
    "else:\n",
    "    print(f.readline()) # 当前面的except语句确定没有执行，即前面try逻辑块中的语句执行没有产生错误，才会执行else里面的内容\n",
    "    f.close()\n",
    "finally:\n",
    "    print(\"whaterver happened before, this statement will be executed surely\") # 无论前面执行情况如何，该语句肯定执行"
   ]
  },
  {
   "cell_type": "markdown",
   "metadata": {},
   "source": [
    "- 当try逻辑块中的代码执行后**产生了**问题，依次轮询except语句，执行符合要求的except语句中的代码，如果except 的错误条件均不符合，则程序结束报错,不会执行后面的finally语句\n",
    "- 注意：如果存在上层try的话，异常将被递交到上层的try，或者到程序的最上层（这样将结束程序，并打印缺省的出错信息）。"
   ]
  },
  {
   "cell_type": "code",
   "execution_count": 7,
   "metadata": {},
   "outputs": [
    {
     "name": "stdout",
     "output_type": "stream",
     "text": [
      "whaterver happened before, this statement will be executed surely\n"
     ]
    },
    {
     "ename": "NameError",
     "evalue": "name 'bad_env' is not defined",
     "output_type": "error",
     "traceback": [
      "\u001b[0;31m---------------------------------------------------------------------------\u001b[0m",
      "\u001b[0;31mNameError\u001b[0m                                 Traceback (most recent call last)",
      "\u001b[0;32m<ipython-input-7-cc446b6489b7>\u001b[0m in \u001b[0;36m<module>\u001b[0;34m\u001b[0m\n\u001b[1;32m      1\u001b[0m \u001b[0;32mtry\u001b[0m\u001b[0;34m:\u001b[0m\u001b[0;34m\u001b[0m\u001b[0;34m\u001b[0m\u001b[0m\n\u001b[1;32m      2\u001b[0m     \u001b[0mf\u001b[0m \u001b[0;34m=\u001b[0m \u001b[0mopen\u001b[0m\u001b[0;34m(\u001b[0m\u001b[0;34m\"name.csv\"\u001b[0m\u001b[0;34m)\u001b[0m \u001b[0;31m# 该文件存在\u001b[0m\u001b[0;34m\u001b[0m\u001b[0;34m\u001b[0m\u001b[0m\n\u001b[0;32m----> 3\u001b[0;31m     \u001b[0mvar\u001b[0m \u001b[0;34m=\u001b[0m \u001b[0mbad_env\u001b[0m\u001b[0;34m\u001b[0m\u001b[0;34m\u001b[0m\u001b[0m\n\u001b[0m\u001b[1;32m      4\u001b[0m \u001b[0;32mexcept\u001b[0m \u001b[0mFileNotFoundError\u001b[0m\u001b[0;34m:\u001b[0m\u001b[0;34m\u001b[0m\u001b[0;34m\u001b[0m\u001b[0m\n\u001b[1;32m      5\u001b[0m     \u001b[0mprint\u001b[0m\u001b[0;34m(\u001b[0m\u001b[0;34m\"sorry. this file does not exist\"\u001b[0m\u001b[0;34m)\u001b[0m\u001b[0;34m\u001b[0m\u001b[0;34m\u001b[0m\u001b[0m\n",
      "\u001b[0;31mNameError\u001b[0m: name 'bad_env' is not defined"
     ]
    }
   ],
   "source": [
    "try:\n",
    "    f = open(\"name.csv\") # 该文件存在\n",
    "    var = bad_env\n",
    "except FileNotFoundError:\n",
    "    print(\"sorry. this file does not exist\")\n",
    "else:\n",
    "    print(f.readline()) # 当前面的except语句确定没有执行，即前面try逻辑块中的语句执行没有产生错误，才会执行else里面的内容\n",
    "    f.close()\n",
    "finally:\n",
    "    print(\"whaterver happened before, this statement will be executed surely\") # 无论前面执行情况如何，该语句肯定执行"
   ]
  },
  {
   "cell_type": "markdown",
   "metadata": {},
   "source": [
    "- 手动触发异常\n",
    "> raise 后面的异常类型必须是标准的错误类型，且保证后面的except语句中包含对这个错误类型的处理语句。"
   ]
  },
  {
   "cell_type": "code",
   "execution_count": 15,
   "metadata": {},
   "outputs": [
    {
     "name": "stdout",
     "output_type": "stream",
     "text": [
      "这个异常是手动触发的\n",
      "whaterver happened before, this statement will be executed surely\n"
     ]
    }
   ],
   "source": [
    "try:\n",
    "    f = open(\"name.csv\") # 该文件存在\n",
    "    if f.name == \"name.csv\":\n",
    "        raise Exception\n",
    "except FileNotFoundError:\n",
    "    print(\"sorry. this file does not exist\")\n",
    "except Exception:\n",
    "    print(\"这个异常是手动触发的\")\n",
    "else:\n",
    "    print(f.readline()) # 当前面的except语句确定没有执行，即前面try逻辑块中的语句执行没有产生错误，才会执行else里面的内容\n",
    "    f.close()\n",
    "finally:\n",
    "    print(\"whaterver happened before, this statement will be executed surely\") # 无论前面执行情况如何，该语句肯定执行"
   ]
  },
  {
   "cell_type": "markdown",
   "metadata": {},
   "source": [
    "# 引用\n",
    "> 本文主要参考下列视频内容，翻译并亲测代码后形成此文，感谢视频作者的无私奉献！\n",
    "\n",
    "- [Python Tutorial: Using Try/Except Blocks for Error Handling](https://www.youtube.com/watch?v=NIWwJbo-9_8&list=PL-osiE80TeTt2d9bfVyTiXJA-UTHn6WwU&index=32&t=0s)\n",
    "\n",
    "> 也参考了下面的内容作为了补充（包含更多错误处理的细节和所有的错误类型列表，感谢）\n",
    "\n",
    "- [Python 异常处理](http://www.runoob.com/python/python-exceptions.html)"
   ]
  },
  {
   "cell_type": "code",
   "execution_count": null,
   "metadata": {},
   "outputs": [],
   "source": []
  }
 ],
 "metadata": {
  "kernelspec": {
   "display_name": "Python 3",
   "language": "python",
   "name": "python3"
  },
  "language_info": {
   "codemirror_mode": {
    "name": "ipython",
    "version": 3
   },
   "file_extension": ".py",
   "mimetype": "text/x-python",
   "name": "python",
   "nbconvert_exporter": "python",
   "pygments_lexer": "ipython3",
   "version": "3.6.7"
  },
  "toc": {
   "base_numbering": 1,
   "nav_menu": {},
   "number_sections": true,
   "sideBar": true,
   "skip_h1_title": false,
   "title_cell": "Table of Contents",
   "title_sidebar": "Contents",
   "toc_cell": false,
   "toc_position": {},
   "toc_section_display": true,
   "toc_window_display": false
  }
 },
 "nbformat": 4,
 "nbformat_minor": 2
}
