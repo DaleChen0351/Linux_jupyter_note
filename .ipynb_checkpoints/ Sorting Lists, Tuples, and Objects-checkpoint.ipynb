{
 "cells": [
  {
   "cell_type": "markdown",
   "metadata": {},
   "source": [
    "# 对list类型对象排序\n"
   ]
  },
  {
   "cell_type": "markdown",
   "metadata": {},
   "source": [
    "## sorted\n",
    "> 排序不会改变被排序对象的原始顺序，排序后的对象会以**返回值**形式输出"
   ]
  },
  {
   "cell_type": "code",
   "execution_count": 14,
   "metadata": {},
   "outputs": [
    {
     "name": "stdout",
     "output_type": "stream",
     "text": [
      "sorted li\t [1, 2, 3, 4, 5, 6, 7, 8, 9]\n",
      "origin li\t [9, 4, 5, 6, 2, 1, 3, 7, 8]\n"
     ]
    }
   ],
   "source": [
    "li = [9, 4, 5, 6, 2, 1, 3, 7, 8]\n",
    "# sorted ：return a new list\n",
    "s_li = sorted(li)\n",
    "print(\"sorted li\\t\", s_li)\n",
    "print(\"origin li\\t\", li)\n"
   ]
  },
  {
   "cell_type": "markdown",
   "metadata": {},
   "source": [
    "## list.sort()\n",
    "> list的内置方法，其他类型的变量无法使用。排序可以直接改变调用者本身的元素顺序"
   ]
  },
  {
   "cell_type": "code",
   "execution_count": 15,
   "metadata": {},
   "outputs": [
    {
     "name": "stdout",
     "output_type": "stream",
     "text": [
      "list_sorted\t [1, 2, 3, 4, 5, 6, 7, 8, 9]\n"
     ]
    }
   ],
   "source": [
    "# 不用新建一个变量,直接改变list本身\n",
    "li.sort()  # return a None\n",
    "print(\"list_sorted\\t\", li)\n"
   ]
  },
  {
   "cell_type": "markdown",
   "metadata": {},
   "source": [
    "## reverse=True\n",
    "> list.sort 和 sorted函数都可以使用这个参数"
   ]
  },
  {
   "cell_type": "code",
   "execution_count": null,
   "metadata": {},
   "outputs": [],
   "source": [
    "# reverse = True\n",
    "print(\"reverserd li\\t\", sorted(li, reverse=True))"
   ]
  },
  {
   "cell_type": "markdown",
   "metadata": {},
   "source": [
    "# 对tuple和dict对象排序\n",
    "> 对dict进行排序，默认是按照dict的key值进行排序"
   ]
  },
  {
   "cell_type": "code",
   "execution_count": 16,
   "metadata": {},
   "outputs": [
    {
     "name": "stdout",
     "output_type": "stream",
     "text": [
      "tup\t [1, 2, 3, 4, 5, 6, 7, 8, 9]\n"
     ]
    }
   ],
   "source": [
    "# tup\n",
    "tup = [9, 4, 5, 6, 2, 1, 3, 7, 8]\n",
    "print(\"tup\\t\",sorted(tup))"
   ]
  },
  {
   "cell_type": "code",
   "execution_count": 17,
   "metadata": {},
   "outputs": [
    {
     "name": "stdout",
     "output_type": "stream",
     "text": [
      "默认排序Dict\t ['age', 'job', 'name', 'os']\n",
      "以value值排序 ['cale', 'mAC', 'none', 'programming']\n"
     ]
    }
   ],
   "source": [
    "di = {\"name\": \"cale\", \"job\": \"programming\", \"age\": \"none\", \"os\": \"mAC\",}\n",
    "s_di = sorted(di)\n",
    "print(\"默认排序Dict\\t\",s_di)\n",
    "\n",
    "def get_value(dii):\n",
    "    retlist=[]\n",
    "    for key, value in dii.items():\n",
    "        retlist.append(value)\n",
    "    return retlist\n",
    "\n",
    "s_di_value = sorted(get_value(di))\n",
    "print(\"以value值排序\",s_di_value)"
   ]
  },
  {
   "cell_type": "markdown",
   "metadata": {},
   "source": [
    "# 参数key="
   ]
  },
  {
   "cell_type": "markdown",
   "metadata": {},
   "source": [
    "## key=abs"
   ]
  },
  {
   "cell_type": "code",
   "execution_count": 4,
   "metadata": {},
   "outputs": [
    {
     "name": "stdout",
     "output_type": "stream",
     "text": [
      "[-6, -5, -4, 1, 2, 3]\n",
      "[1, 2, 3, -4, -5, -6]\n"
     ]
    }
   ],
   "source": [
    "# 接下来的视频将会使用sorted函数，基于其他类型的变量\n",
    "\n",
    "li2= [-6, -5, -4, 1, 2, 3]\n",
    "s_li2 = sorted(li2)\n",
    "print(s_li2) # 整数排序\n",
    "s_li3 = sorted(li2, key=abs)\n",
    "print(s_li3)"
   ]
  },
  {
   "cell_type": "markdown",
   "metadata": {},
   "source": [
    "## key= 函数指针、lambda、attrgetter"
   ]
  },
  {
   "cell_type": "code",
   "execution_count": 5,
   "metadata": {},
   "outputs": [],
   "source": [
    "class Employee():\n",
    "    def __init__(self,name,age,salary):\n",
    "        self.name = name\n",
    "        self.age = age\n",
    "        self.salary = salary\n",
    "    def __repr__(self):\n",
    "        return \"({},{},${})\".format(self.name,self.age,self.salary)"
   ]
  },
  {
   "cell_type": "markdown",
   "metadata": {},
   "source": [
    "- lambda or 函数指针"
   ]
  },
  {
   "cell_type": "code",
   "execution_count": 19,
   "metadata": {},
   "outputs": [
    {
     "name": "stdout",
     "output_type": "stream",
     "text": [
      "[Sarah,29,$8000, Carl,37,$7000, John,43,$9000]\n"
     ]
    }
   ],
   "source": [
    "e1 = Employee(\"Carl\",37,7000)\n",
    "e2 = Employee(\"Sarah\",29,8000)\n",
    "e3 = Employee(\"John\",43,9000)\n",
    "elist = [e1, e2, e3]\n",
    "\n",
    "\n",
    "\n",
    "def e_sort(emp):\n",
    "    return emp.salary\n",
    "s_elist = sorted(elist,key=lambda x:x.age) # key= lambda or e_sort\n",
    "print(s_elist)"
   ]
  },
  {
   "cell_type": "markdown",
   "metadata": {},
   "source": [
    "- attrgetter"
   ]
  },
  {
   "cell_type": "code",
   "execution_count": 13,
   "metadata": {},
   "outputs": [
    {
     "name": "stdout",
     "output_type": "stream",
     "text": [
      "[Sarah,29,$8000, Carl,37,$7000, John,43,$9000]\n"
     ]
    }
   ],
   "source": [
    "from operator import attrgetter\n",
    "s_elist = sorted(elist,key=attrgetter(\"age\"))\n",
    "print(s_elist)"
   ]
  },
  {
   "cell_type": "markdown",
   "metadata": {},
   "source": [
    "# 引用\n",
    "> 本文主要参考下列视频内容，翻译并亲测代码后形成此文，感谢视频作者的无私奉献！\n",
    "\n",
    "- [Python Tutorial: Sorting Lists, Tuples, and Objects](https://www.youtube.com/watch?v=D3JvDWO-BY4&list=PL-osiE80TeTt2d9bfVyTiXJA-UTHn6WwU&index=22&t=0s)\n"
   ]
  },
  {
   "cell_type": "code",
   "execution_count": null,
   "metadata": {},
   "outputs": [],
   "source": []
  }
 ],
 "metadata": {
  "kernelspec": {
   "display_name": "Python 3",
   "language": "python",
   "name": "python3"
  },
  "language_info": {
   "codemirror_mode": {
    "name": "ipython",
    "version": 3
   },
   "file_extension": ".py",
   "mimetype": "text/x-python",
   "name": "python",
   "nbconvert_exporter": "python",
   "pygments_lexer": "ipython3",
   "version": "3.6.7"
  },
  "toc": {
   "base_numbering": 1,
   "nav_menu": {},
   "number_sections": true,
   "sideBar": true,
   "skip_h1_title": false,
   "title_cell": "Table of Contents",
   "title_sidebar": "Contents",
   "toc_cell": false,
   "toc_position": {},
   "toc_section_display": true,
   "toc_window_display": true
  }
 },
 "nbformat": 4,
 "nbformat_minor": 2
}
