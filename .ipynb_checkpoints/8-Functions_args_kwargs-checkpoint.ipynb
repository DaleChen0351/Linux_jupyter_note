{
 "cells": [
  {
   "cell_type": "markdown",
   "metadata": {},
   "source": [
    "# Basic function "
   ]
  },
  {
   "cell_type": "code",
   "execution_count": 19,
   "metadata": {},
   "outputs": [
    {
     "name": "stdout",
     "output_type": "stream",
     "text": [
      "<method-wrapper '__str__' of function object at 0x7f9e500b0158>\n"
     ]
    }
   ],
   "source": [
    "def hello_func(greeting=\"none\"):\n",
    "    return \"{} function!\".format(greeting)\n",
    "print(hello_func.__str__)"
   ]
  },
  {
   "cell_type": "markdown",
   "metadata": {},
   "source": [
    "- keep your code dry\n",
    "> 不要重复编写代码，如果代码可以复用，就尽量写成函数，以便于后期的维护和修改"
   ]
  },
  {
   "cell_type": "markdown",
   "metadata": {},
   "source": [
    "- return 也可以返回字符串"
   ]
  },
  {
   "cell_type": "code",
   "execution_count": 20,
   "metadata": {},
   "outputs": [
    {
     "name": "stdout",
     "output_type": "stream",
     "text": [
      "HELLO FUNCTION!\n"
     ]
    }
   ],
   "source": [
    "print(hello_func(\"hello\").upper())"
   ]
  },
  {
   "cell_type": "markdown",
   "metadata": {},
   "source": [
    "- 函数内部的变量不会影响到函数外面的变量\n",
    "> [变量作用范围](https://www.youtube.com/watch?v=QVdf0LgmICw)"
   ]
  },
  {
   "cell_type": "code",
   "execution_count": 19,
   "metadata": {},
   "outputs": [],
   "source": [
    "def hello_func(greeting=\"none\",name= \"you\"):\n",
    "    return \"{}, {}!\".format(greeting,name)"
   ]
  },
  {
   "cell_type": "code",
   "execution_count": 26,
   "metadata": {},
   "outputs": [
    {
     "data": {
      "text/plain": [
       "'hello, dale!'"
      ]
     },
     "execution_count": 26,
     "metadata": {},
     "output_type": "execute_result"
    }
   ],
   "source": [
    "hello_func(\"hello\",\"dale\")"
   ]
  },
  {
   "cell_type": "markdown",
   "metadata": {},
   "source": [
    "#  args and  kwargs"
   ]
  },
  {
   "cell_type": "markdown",
   "metadata": {},
   "source": [
    "> 对于\\*args和\\*\\*kwargs在函数中我们可以称之为参数组。但并不是必须写成\\*args和\\*\\*kwargs。只有变量前的\\*(星号)才是必须的.\t你也可以写成\\*var和\\*\\*vars。\\*args和\\*\\*kwargs只是个通俗的命名约定。\n",
    "\n",
    "> 可以将**不定数量的**参数传递给某个函数。这里的不定的意思是：预先并不知道，函数使用者会传递多少个参数给你,\t所以在这个场景下使用这两个关键字。\n",
    "\n",
    "- \\*args的功能: 接收N个**位置参数**，转换成元组tuple形式\n",
    "\n",
    "- \\*\\*kwargs: 接收N个**关键字参数**，转换成字典dict形式\n",
    "- ==位置参数一定要在关键字参数之前，也就是(\\*args，\\*\\*kwargs)==\n"
   ]
  },
  {
   "cell_type": "markdown",
   "metadata": {},
   "source": [
    "### \\*args\n",
    "> \\*args是用来发送一个非键值对、可变数量的参数列表给一个函数作为参数。\n",
    "\n",
    "- 普通参数和位置参数"
   ]
  },
  {
   "cell_type": "code",
   "execution_count": 30,
   "metadata": {
    "scrolled": true
   },
   "outputs": [
    {
     "name": "stdout",
     "output_type": "stream",
     "text": [
      "普通变量：1\n",
      "位置参数变量：2\n",
      "位置参数变量：3\n",
      "位置参数变量：4\n",
      "位置参数变量：5\n"
     ]
    }
   ],
   "source": [
    "def fun1(x,*args):\n",
    "    print(\"普通变量：{}\".format(x))\n",
    "    for arg in args:\n",
    "        print(\"位置参数变量：{}\".format(arg))\n",
    "fun1(1,2,3,4,5)"
   ]
  },
  {
   "cell_type": "code",
   "execution_count": 33,
   "metadata": {},
   "outputs": [
    {
     "name": "stdout",
     "output_type": "stream",
     "text": [
      "普通变量：1\n",
      "位置参数变量：2\n",
      "位置参数变量：3\n",
      "位置参数变量：4\n",
      "位置参数变量：5\n"
     ]
    }
   ],
   "source": [
    "def fun2(*args,x):\n",
    "    print(\"普通变量：{}\".format(x))\n",
    "    for arg in args:\n",
    "        print(\"位置参数变量：{}\".format(arg))\n",
    "list=(2,3,4,5)\n",
    "fun2(*list,x=1)\n",
    "\n",
    "    "
   ]
  },
  {
   "cell_type": "markdown",
   "metadata": {},
   "source": [
    "### \\*\\*kwargs\n",
    "> this"
   ]
  },
  {
   "cell_type": "code",
   "execution_count": 6,
   "metadata": {},
   "outputs": [
    {
     "name": "stdout",
     "output_type": "stream",
     "text": [
      "dale\n",
      "{'age': 19, 'sex': 'M'}\n",
      "age:19\n",
      "sex:M\n"
     ]
    }
   ],
   "source": [
    "def fun3(name,**kwargs):\n",
    "    print(name)\n",
    "    print(kwargs)\n",
    "    for key,val in kwargs.items():\n",
    "        print(\"{}:{}\".format(key,val))\n",
    "fun3(\"dale\",age=19,sex=\"M\")"
   ]
  },
  {
   "cell_type": "markdown",
   "metadata": {},
   "source": [
    "### args and kwargs\n",
    "- 普通参数，位置参数，关键字参数"
   ]
  },
  {
   "cell_type": "code",
   "execution_count": 8,
   "metadata": {},
   "outputs": [
    {
     "name": "stdout",
     "output_type": "stream",
     "text": [
      "1\n",
      "(2, 3)\n",
      "{'age': 19, 'sex': 'F'}\n"
     ]
    }
   ],
   "source": [
    "def fun4(x,*args,**kwargs):\n",
    "    print(x)\n",
    "    print(args)\n",
    "    print(kwargs)\n",
    "fun4(1,2,3,age=19,sex='F')"
   ]
  },
  {
   "cell_type": "markdown",
   "metadata": {},
   "source": [
    "- 如果把位置参数放到了关键词参数之前，则会出现如下错误"
   ]
  },
  {
   "cell_type": "code",
   "execution_count": 9,
   "metadata": {},
   "outputs": [
    {
     "ename": "SyntaxError",
     "evalue": "positional argument follows keyword argument (<ipython-input-9-baa33be3a28b>, line 1)",
     "output_type": "error",
     "traceback": [
      "\u001b[0;36m  File \u001b[0;32m\"<ipython-input-9-baa33be3a28b>\"\u001b[0;36m, line \u001b[0;32m1\u001b[0m\n\u001b[0;31m    fun4(age=19,sex='F',1,2,3)\u001b[0m\n\u001b[0m                       ^\u001b[0m\n\u001b[0;31mSyntaxError\u001b[0m\u001b[0;31m:\u001b[0m positional argument follows keyword argument\n"
     ]
    }
   ],
   "source": [
    "fun4(age=19,sex='F',1,2,3)"
   ]
  },
  {
   "cell_type": "markdown",
   "metadata": {},
   "source": [
    "- uppack\n",
    "> upack 指的是在传入的参数变量前面加\\* 或者 \\*\\*。这些符号的含义是将dict和list类型的参变量**unpack成**一个个独立的变量，然后利用args和kwargs的打包功能重新**打包成**list或者dict，传到函数内部。"
   ]
  },
  {
   "cell_type": "code",
   "execution_count": 16,
   "metadata": {},
   "outputs": [],
   "source": [
    "def student_info(*args, **kwargs):\n",
    "    print(args)\n",
    "    print(kwargs)\n",
    "courses= [\"math\",\"art\"]\n",
    "info = {\"name\":\"dale\",\"age\":22}"
   ]
  },
  {
   "cell_type": "code",
   "execution_count": null,
   "metadata": {},
   "outputs": [],
   "source": [
    "- 如果不将dict和list类型的变量先解包，而直接打包传递给函数，则系统会认为传入的是几个独立的个体而二次打包，形成我们不想要的结果。"
   ]
  },
  {
   "cell_type": "code",
   "execution_count": 22,
   "metadata": {},
   "outputs": [
    {
     "name": "stdout",
     "output_type": "stream",
     "text": [
      "(['math', 'art'], {'name': 'dale', 'age': 22})\n",
      "{}\n",
      "-----------\n",
      "('math', 'art')\n",
      "{'name': 'dale', 'age': 22}\n"
     ]
    }
   ],
   "source": [
    "student_info(courses,info)\n",
    "print(\"-----------\")\n",
    "student_info(*courses,**info)"
   ]
  },
  {
   "cell_type": "markdown",
   "metadata": {},
   "source": [
    "# 引用\n",
    "> 本文主要参考下列视频及文章内容，翻译、整理并亲测代码后形成此文，感谢下面作者的无私奉献！\n",
    "\n",
    "- [8-Functions](https://www.youtube.com/watch?v=9Os0o3wzS_I&list=PL-osiE80TeTt2d9bfVyTiXJA-UTHn6WwU&index=9&t=0s)\n",
    "- [*args和**kwargs](https://blog.csdn.net/lcxxcl_1234/article/details/80726668)\n",
    "- [python基础--参数组*args和**kwargs的区别](https://blog.csdn.net/yetugeng/article/details/83544178)"
   ]
  },
  {
   "cell_type": "code",
   "execution_count": null,
   "metadata": {},
   "outputs": [],
   "source": []
  }
 ],
 "metadata": {
  "kernelspec": {
   "display_name": "Python 3",
   "language": "python",
   "name": "python3"
  },
  "language_info": {
   "codemirror_mode": {
    "name": "ipython",
    "version": 3
   },
   "file_extension": ".py",
   "mimetype": "text/x-python",
   "name": "python",
   "nbconvert_exporter": "python",
   "pygments_lexer": "ipython3",
   "version": "3.6.7"
  },
  "toc": {
   "base_numbering": 1,
   "nav_menu": {},
   "number_sections": true,
   "sideBar": true,
   "skip_h1_title": false,
   "title_cell": "Table of Contents",
   "title_sidebar": "Contents",
   "toc_cell": false,
   "toc_position": {},
   "toc_section_display": true,
   "toc_window_display": false
  }
 },
 "nbformat": 4,
 "nbformat_minor": 2
}
