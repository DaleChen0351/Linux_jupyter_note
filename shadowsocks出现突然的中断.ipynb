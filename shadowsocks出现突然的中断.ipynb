{
 "cells": [
  {
   "cell_type": "markdown",
   "metadata": {},
   "source": [
    "# 问题原因\n",
    "- 通过putty 可以正常访问VPS，说明VPS服务器没有问题\n",
    "- 通过月秋的账号也可以正常上网，说明本地客户端没有问题\n",
    "- 推测是shadowsocks服务器端异常"
   ]
  },
  {
   "cell_type": "code",
   "execution_count": 2,
   "metadata": {
    "scrolled": true
   },
   "outputs": [
    {
     "data": {
      "text/html": [
       "\n",
       "        <iframe\n",
       "            width=\"1000\"\n",
       "            height=\"450\"\n",
       "            src=\"https://qlinsite.wordpress.com/2016/09/03/shadowsocks%E6%97%A0%E6%B3%95%E4%BD%BF%E7%94%A8%E5%90%8E%E7%9A%84%E7%AE%80%E5%8D%95%E6%8E%92%E9%99%A4%E6%96%B9%E6%B3%95/\"\n",
       "            frameborder=\"0\"\n",
       "            allowfullscreen\n",
       "        ></iframe>\n",
       "        "
      ],
      "text/plain": [
       "<IPython.lib.display.IFrame at 0x7f85213204e0>"
      ]
     },
     "execution_count": 2,
     "metadata": {},
     "output_type": "execute_result"
    }
   ],
   "source": [
    "from IPython.display import IFrame\n",
    "IFrame('https://qlinsite.wordpress.com/2016/09/03/shadowsocks%E6%97%A0%E6%B3%95%E4%BD%BF%E7%94%A8%E5%90%8E%E7%9A%84%E7%AE%80%E5%8D%95%E6%8E%92%E9%99%A4%E6%96%B9%E6%B3%95/', width=1000, height=450)"
   ]
  },
  {
   "cell_type": "markdown",
   "metadata": {},
   "source": [
    "根据上面排除问题的方式。使用 netstat -lntp 查看端口使用情况，看一下 Shadowsocks的端口是否 正常被 Shadowsocks自身 占用。下面是相关代码"
   ]
  },
  {
   "cell_type": "markdown",
   "metadata": {},
   "source": [
    "```shell\n",
    "root@ubuntu:~# netstat -lntp\n",
    "Active Internet connections (only servers)\n",
    "Proto Recv-Q Send-Q Local Address           Foreign Address         State       PID/Program name\n",
    "tcp        0      0 0.0.0.0:15899           0.0.0.0:*               LISTEN      1344/python\n",
    "tcp        0      0 0.0.0.0:29115           0.0.0.0:*               LISTEN      429/sshd\n",
    "tcp6       0      0 :::29115                :::*                    LISTEN      429/sshd\n",
    "```\n"
   ]
  },
  {
   "cell_type": "markdown",
   "metadata": {},
   "source": [
    "[linux netstat 命令详解](https://www.cnblogs.com/ggjucheng/archive/2012/01/08/2316661.html)"
   ]
  },
  {
   "cell_type": "markdown",
   "metadata": {},
   "source": [
    "# 解决问题\n",
    "- 根据前面的分析，推测是ss服务器死机导致，故需要重启ss服务器，下面是相关的重启方式说明。"
   ]
  },
  {
   "cell_type": "code",
   "execution_count": 11,
   "metadata": {
    "scrolled": true
   },
   "outputs": [
    {
     "data": {
      "text/html": [
       "\n",
       "        <iframe\n",
       "            width=\"1000\"\n",
       "            height=\"450\"\n",
       "            src=\"http://blog.openpilot.cc/archives/ss%E7%9A%84%E9%87%8D%E5%90%AF-%E5%BC%80%E5%A7%8B-%E5%81%9C%E6%AD%A2%E5%91%BD%E4%BB%A4/\"\n",
       "            frameborder=\"0\"\n",
       "            allowfullscreen\n",
       "        ></iframe>\n",
       "        "
      ],
      "text/plain": [
       "<IPython.lib.display.IFrame at 0x7f850b9ce898>"
      ]
     },
     "execution_count": 11,
     "metadata": {},
     "output_type": "execute_result"
    }
   ],
   "source": [
    "from IPython.display import IFrame\n",
    "IFrame('http://blog.openpilot.cc/archives/ss%E7%9A%84%E9%87%8D%E5%90%AF-%E5%BC%80%E5%A7%8B-%E5%81%9C%E6%AD%A2%E5%91%BD%E4%BB%A4/',width=1000,height=450)"
   ]
  },
  {
   "cell_type": "markdown",
   "metadata": {},
   "source": [
    "# 修改SS端口号\n",
    "- 修改SS端口号，及另外一种查看网络状态的命令"
   ]
  },
  {
   "cell_type": "markdown",
   "metadata": {},
   "source": [
    "[link](https://blog.whsir.com/post-1045.html)"
   ]
  },
  {
   "cell_type": "code",
   "execution_count": null,
   "metadata": {},
   "outputs": [],
   "source": []
  }
 ],
 "metadata": {
  "kernelspec": {
   "display_name": "Python 3",
   "language": "python",
   "name": "python3"
  },
  "language_info": {
   "codemirror_mode": {
    "name": "ipython",
    "version": 3
   },
   "file_extension": ".py",
   "mimetype": "text/x-python",
   "name": "python",
   "nbconvert_exporter": "python",
   "pygments_lexer": "ipython3",
   "version": "3.6.7"
  },
  "toc": {
   "base_numbering": 1,
   "nav_menu": {},
   "number_sections": true,
   "sideBar": true,
   "skip_h1_title": false,
   "title_cell": "Table of Contents",
   "title_sidebar": "Contents",
   "toc_cell": false,
   "toc_position": {},
   "toc_section_display": true,
   "toc_window_display": false
  }
 },
 "nbformat": 4,
 "nbformat_minor": 2
}
